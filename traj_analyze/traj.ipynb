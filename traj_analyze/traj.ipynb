{
 "cells": [
  {
   "cell_type": "code",
   "execution_count": null,
   "metadata": {},
   "outputs": [],
   "source": [
    "import numpy as np\n",
    "import csv\n",
    "import matplotlib.pyplot as plt\n",
    "\n",
    "vio_position = []\n",
    "loop_position = []\n",
    "tx_index = 1"
   ]
  },
  {
   "cell_type": "code",
   "execution_count": null,
   "metadata": {},
   "outputs": [],
   "source": [
    "with open('vio.csv',newline='') as f:\n",
    "    data = csv.reader(f)\n",
    "    for row in data:\n",
    "        vio_position.append([float(row[tx_index]),float(row[tx_index+1]),float(row[tx_index+2])])"
   ]
  },
  {
   "cell_type": "code",
   "execution_count": null,
   "metadata": {},
   "outputs": [],
   "source": [
    "with open('vio_loop.csv',newline='') as f:\n",
    "    data = csv.reader(f)\n",
    "    for row in data:\n",
    "        loop_position.append([float(row[tx_index]),float(row[tx_index+1]),float(row[tx_index+2])])"
   ]
  },
  {
   "cell_type": "code",
   "execution_count": null,
   "metadata": {},
   "outputs": [],
   "source": [
    "pos_array= np.array(vio_position)\n",
    "plt.plot(pos_array[:,0],pos_array[:,1],color='r')\n",
    "pos_array= np.array(loop_position)\n",
    "plt.plot(pos_array[:,0],pos_array[:,1],color='g')\n",
    "\n",
    "plt.show()"
   ]
  },
  {
   "cell_type": "code",
   "execution_count": null,
   "metadata": {},
   "outputs": [],
   "source": [
    "# 假设points是一个3x4的数组，表示四个点的坐标\n",
    "points = pos_array[:,0:2]\n",
    "# 计算相邻点之间的距离，使用欧几里得距离公式\n",
    "distances = np.sqrt(np.sum(np.diff(points, axis=0)**2, axis=1))\n",
    "# 求和得到轨迹长度\n",
    "length = np.sum(distances)\n",
    "print(length)"
   ]
  }
 ],
 "metadata": {
  "kernelspec": {
   "display_name": "Python 3",
   "language": "python",
   "name": "python3"
  },
  "language_info": {
   "codemirror_mode": {
    "name": "ipython",
    "version": 3
   },
   "file_extension": ".py",
   "mimetype": "text/x-python",
   "name": "python",
   "nbconvert_exporter": "python",
   "pygments_lexer": "ipython3",
   "version": "3.8.10"
  },
  "orig_nbformat": 4
 },
 "nbformat": 4,
 "nbformat_minor": 2
}
